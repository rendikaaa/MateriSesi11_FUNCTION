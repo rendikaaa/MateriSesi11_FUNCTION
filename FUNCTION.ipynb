{
 "cells": [
  {
   "cell_type": "code",
   "execution_count": 89,
   "id": "b1bb787e",
   "metadata": {},
   "outputs": [
    {
     "name": "stdout",
     "output_type": "stream",
     "text": [
      "welcome to Python language\n",
      "welcome to Python language\n",
      "welcome to Python language\n",
      "welcome to Python language\n",
      "welcome to Python language\n"
     ]
    }
   ],
   "source": [
    "#Your Code here\n",
    "def helloPython():\n",
    "    print('welcome to Python language')\n",
    "    \n",
    "helloPython()\n",
    "helloPython()\n",
    "helloPython()\n",
    "helloPython()\n",
    "helloPython()"
   ]
  },
  {
   "cell_type": "code",
   "execution_count": 34,
   "id": "c994cf9a",
   "metadata": {},
   "outputs": [
    {
     "name": "stdout",
     "output_type": "stream",
     "text": [
      "H,Prof.Rendika Febrian,S.Kom\n"
     ]
    }
   ],
   "source": [
    "# your code here\n",
    "def gettitlebelakang(title=\"S.Kom\"):\n",
    "    return title\n",
    "\n",
    "def gettitledepan(title='H,Prof'):\n",
    "    return title\n",
    "    \n",
    "def fullnamewithtitle(firstname,lastname):\n",
    "    title_depan= gettitledepan()\n",
    "    title_belakang= gettitlebelakang()\n",
    "    print(f\"{title_depan}.{firstname} {lastname},{title_belakang}\")\n",
    "    \n",
    "fullnamewithtitle(\"Rendika\", \"Febrian\")"
   ]
  },
  {
   "cell_type": "code",
   "execution_count": 56,
   "id": "2b9a1764",
   "metadata": {},
   "outputs": [
    {
     "data": {
      "text/plain": [
       "2500"
      ]
     },
     "execution_count": 56,
     "metadata": {},
     "output_type": "execute_result"
    }
   ],
   "source": [
    "#your code here\n",
    "def maxvalue(val_1, val_2, val_3):\n",
    "   \n",
    "    if val_1 > val_2 and val_1 > val_3:\n",
    "        return val_1\n",
    "    \n",
    "    if val_2 > val_1 and val_2 > val_3:\n",
    "        return val_2\n",
    "    \n",
    "    if val_3 > val_1 and val_3 > val_2:\n",
    "        return val_3\n",
    "    \n",
    "maxvalue(100,500,2500)"
   ]
  },
  {
   "cell_type": "code",
   "execution_count": 70,
   "id": "c629e283",
   "metadata": {},
   "outputs": [
    {
     "data": {
      "text/plain": [
       "78.5"
      ]
     },
     "execution_count": 70,
     "metadata": {},
     "output_type": "execute_result"
    }
   ],
   "source": [
    "#your code area \n",
    "def countCircleArea(diameter,phi=3.14):\n",
    "    r = diameter/2\n",
    "    return phi * r * r\n",
    "\n",
    "countCircleArea(10)"
   ]
  },
  {
   "cell_type": "code",
   "execution_count": 77,
   "id": "903423e5",
   "metadata": {},
   "outputs": [
    {
     "name": "stdout",
     "output_type": "stream",
     "text": [
      "100\n",
      "78.5\n",
      "21.5\n"
     ]
    }
   ],
   "source": [
    "#your code area \n",
    "def countCircleArea(diameter,phi=3.14):\n",
    "    r = diameter/2\n",
    "    return phi * r * r\n",
    "\n",
    "def countSquareArea(sisi):\n",
    "    return sisi * sisi\n",
    "\n",
    "sisi = 10\n",
    "diameter = 10\n",
    "result = countSquareArea(sisi) - countCircleArea(diameter)\n",
    "print(countSquareArea(sisi))\n",
    "print(countCircleArea(diameter))\n",
    "print(result)"
   ]
  },
  {
   "cell_type": "code",
   "execution_count": 84,
   "id": "08826f1f",
   "metadata": {},
   "outputs": [
    {
     "name": "stdout",
     "output_type": "stream",
     "text": [
      "suhu sekarang di sukabumi : 20 celcius\n",
      "suhu sekarang di sukabumi : 80 farenheit\n",
      "suhu sekarang di kutub utara : -10 celcius\n",
      "suhu sekarang di kutub utara : -40 farenheit\n"
     ]
    }
   ],
   "source": [
    "#your code area\n",
    "def info(suhu, daerah='sukabumi', satuan='celcius'):\n",
    "    print(f\"suhu sekarang di {daerah} : {suhu} {satuan}\")\n",
    "    \n",
    "info(20)\n",
    "info(80,satuan='farenheit')\n",
    "info(-10,'kutub utara')\n",
    "info(-40,'kutub utara', 'farenheit')"
   ]
  },
  {
   "cell_type": "code",
   "execution_count": 85,
   "id": "84617a14",
   "metadata": {},
   "outputs": [
    {
     "data": {
      "text/plain": [
       "6"
      ]
     },
     "execution_count": 85,
     "metadata": {},
     "output_type": "execute_result"
    }
   ],
   "source": [
    "#fungsi rekursif\n",
    "def faktorial(bil):\n",
    "    if bil==1:\n",
    "        return 1\n",
    "    return bil * faktorial(bil-1)\n",
    "\n",
    "faktorial(3)"
   ]
  },
  {
   "cell_type": "code",
   "execution_count": 90,
   "id": "47985f3f",
   "metadata": {},
   "outputs": [
    {
     "data": {
      "text/plain": [
       "330"
      ]
     },
     "execution_count": 90,
     "metadata": {},
     "output_type": "execute_result"
    }
   ],
   "source": [
    "#soal latihan 1\n",
    "nilai_tugas = [100,80,70,80]\n",
    "\n",
    "def totalNilai(n_tugas):\n",
    "    total=0\n",
    "    for i in n_tugas:\n",
    "        total +=i\n",
    "        \n",
    "    return total\n",
    "\n",
    "totalNilai(nilai_tugas)"
   ]
  },
  {
   "cell_type": "code",
   "execution_count": 92,
   "id": "db716b98",
   "metadata": {},
   "outputs": [
    {
     "data": {
      "text/plain": [
       "40"
      ]
     },
     "execution_count": 92,
     "metadata": {},
     "output_type": "execute_result"
    }
   ],
   "source": [
    "#soal latihan 1.2\n",
    "def total(nums):\n",
    "    total = 0\n",
    "    for n in nums:\n",
    "        total += n\n",
    "    return total\n",
    "total([20,20])"
   ]
  },
  {
   "cell_type": "code",
   "execution_count": 97,
   "id": "f07994ae",
   "metadata": {},
   "outputs": [
    {
     "name": "stdout",
     "output_type": "stream",
     "text": [
      "1050\n",
      "700\n"
     ]
    }
   ],
   "source": [
    "#soal latihan 2\n",
    "\n",
    "nilai_tugas = [100,80,700,80,90]\n",
    "\n",
    "def totalNilai(n_tugas):\n",
    "    total=0\n",
    "    for i in n_tugas:\n",
    "        total +=i\n",
    "        \n",
    "    return total\n",
    "\n",
    "def maxValue(n_tugas):\n",
    "    maks = 0\n",
    "    for i in n_tugas:\n",
    "        if i > maks:\n",
    "            maks = i\n",
    "    return maks\n",
    "\n",
    "print(totalNilai(nilai_tugas))\n",
    "print(maxValue(nilai_tugas))"
   ]
  },
  {
   "cell_type": "code",
   "execution_count": 105,
   "id": "a83a696c",
   "metadata": {},
   "outputs": [
    {
     "ename": "SyntaxError",
     "evalue": "invalid syntax (3918241090.py, line 26)",
     "output_type": "error",
     "traceback": [
      "\u001b[1;36m  Input \u001b[1;32mIn [105]\u001b[1;36m\u001b[0m\n\u001b[1;33m    for mahasiswa in nilai_programming\u001b[0m\n\u001b[1;37m                                      ^\u001b[0m\n\u001b[1;31mSyntaxError\u001b[0m\u001b[1;31m:\u001b[0m invalid syntax\n"
     ]
    }
   ],
   "source": [
    "#soal latihan 3\n",
    "\n",
    "nilai_programming = [\n",
    "    {\n",
    "        \"nama\":\"rendika\",\n",
    "        \"nilai\":100\n",
    "    },\n",
    "    {\n",
    "        \"nama\":\"febrian\",\n",
    "        \"nilai\":70\n",
    "    },\n",
    "    {\n",
    "        \"nama\":\"cristian\",\n",
    "        \"nilai\":85\n",
    "    },\n",
    "    {\n",
    "        \"nama\":\"ronaldo\",\n",
    "        \"nilai\":90\n",
    "    }\n",
    "    \n",
    "]\n",
    "\n",
    "def maxValue():\n",
    "    nilaiTerbesar = 0\n",
    "    nama_terbesar + ''\n",
    "    for mahasiswa in nilai_programming\n",
    "        nilai = mahasiswa.get(\"nilai\")\n",
    "        nama = mahasiswa.get(\"nama\")\n",
    "        \n",
    "        if nilai > nilai_terbesar:\n",
    "            nama_terbesar = nama\n",
    "            nilai_terbesar = nilai\n",
    "            \n",
    "    return {\n",
    "        \"nama\": nama_terbesar,\n",
    "        \"nilai\":nilai_terbesar\n",
    "    }\n",
    "            \n",
    "mahasiswa = maxNilai(nilai_programming)\n",
    "\n",
    "print(\"ranking 1 adalah .......\\n\")\n",
    "print(\"nama:) \", mahasiswa.get(\"nama\"))\n",
    "print(\"nilai,\", mahasiswa.get(\"nilai\"))\n",
    "\n",
    "        \n",
    "        "
   ]
  },
  {
   "cell_type": "code",
   "execution_count": null,
   "id": "4208f7a2",
   "metadata": {},
   "outputs": [],
   "source": []
  }
 ],
 "metadata": {
  "kernelspec": {
   "display_name": "Python 3 (ipykernel)",
   "language": "python",
   "name": "python3"
  },
  "language_info": {
   "codemirror_mode": {
    "name": "ipython",
    "version": 3
   },
   "file_extension": ".py",
   "mimetype": "text/x-python",
   "name": "python",
   "nbconvert_exporter": "python",
   "pygments_lexer": "ipython3",
   "version": "3.9.12"
  }
 },
 "nbformat": 4,
 "nbformat_minor": 5
}
